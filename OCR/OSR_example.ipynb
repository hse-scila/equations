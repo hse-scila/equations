{
 "cells": [
  {
   "cell_type": "code",
   "execution_count": 15,
   "id": "8eaaf4a4-46f8-4744-8c2a-cac906da9408",
   "metadata": {},
   "outputs": [
    {
     "name": "stderr",
     "output_type": "stream",
     "text": [
      "  0%|                                                                                            | 0/4 [00:00<?, ?it/s]"
     ]
    },
    {
     "name": "stdout",
     "output_type": "stream",
     "text": [
      "answ1.png\n"
     ]
    },
    {
     "name": "stderr",
     "output_type": "stream",
     "text": [
      " 75%|███████████████████████████████████████████████████████████████                     | 3/4 [00:01<00:00,  1.74it/s]"
     ]
    },
    {
     "name": "stdout",
     "output_type": "stream",
     "text": [
      "w(x,t)=\\left[1+C\\exp(-\\frac{5}{6}a t\\pm\\frac{1}{6}\\sqrt{6a}\\,x)\\right]^{-2},\n",
      "eq1.png\n"
     ]
    },
    {
     "name": "stderr",
     "output_type": "stream",
     "text": [
      "100%|████████████████████████████████████████████████████████████████████████████████████| 4/4 [00:02<00:00,  1.82it/s]"
     ]
    },
    {
     "name": "stdout",
     "output_type": "stream",
     "text": [
      "{\\frac{\\partial w}{\\partial t}}={\\frac{\\partial^{2}w}{\\partial x^{2}}}+a w(1-w)\n"
     ]
    },
    {
     "name": "stderr",
     "output_type": "stream",
     "text": [
      "\n"
     ]
    }
   ],
   "source": [
    "# Импортируем нужные библиотеки\n",
    "from PIL import Image\n",
    "from pix2tex.cli import LatexOCR\n",
    "import pandas as pd\n",
    "import os\n",
    "import tqdm as notebook_tqdm\n",
    "\n",
    "# создаем модель конвертации\n",
    "model = LatexOCR()\n",
    "# указываем путь к кталогу, где хранятся изображения формул\n",
    "my_source = 'C:/koltcov/datasets_for_experiments/image2latex_equation/image_example/'\n",
    "# организуем цикл перебора по изображения\n",
    "for f in notebook_tqdm.tqdm(sorted(os.listdir(my_source))):\n",
    "    if f.endswith('.png'):\n",
    "        print(f)\n",
    "        # читаем изображение\n",
    "        img = Image.open(os.path.join(my_source, f))\n",
    "        # получаем результат - формула в формате Latex\n",
    "        pred = model(img)\n",
    "        # выводим на экран результат конвертации\n",
    "        print(pred)"
   ]
  },
  {
   "cell_type": "markdown",
   "id": "6a3479dd",
   "metadata": {},
   "source": [
    "eq1.png\n",
    "$$w(x,t)=\\left[1+C\\exp(-\\frac{5}{6}a t\\pm\\frac{1}{6}\\sqrt{6a}\\,x)\\right]^{-2},$$"
   ]
  },
  {
   "cell_type": "markdown",
   "id": "1bd215cf",
   "metadata": {},
   "source": [
    "answ1.png\n",
    "$${\\frac{\\partial w}{\\partial t}}={\\frac{\\partial^{2}w}{\\partial x^{2}}}+a w(1-w) $$"
   ]
  },
  {
   "cell_type": "code",
   "execution_count": null,
   "id": "9360ce7c",
   "metadata": {},
   "outputs": [],
   "source": []
  }
 ],
 "metadata": {
  "kernelspec": {
   "display_name": "pytorch",
   "language": "python",
   "name": "pytorch"
  },
  "language_info": {
   "codemirror_mode": {
    "name": "ipython",
    "version": 3
   },
   "file_extension": ".py",
   "mimetype": "text/x-python",
   "name": "python",
   "nbconvert_exporter": "python",
   "pygments_lexer": "ipython3",
   "version": "3.9.19"
  }
 },
 "nbformat": 4,
 "nbformat_minor": 5
}
